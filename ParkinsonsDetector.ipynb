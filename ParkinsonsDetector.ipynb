{
 "cells": [
  {
   "cell_type": "code",
   "execution_count": 28,
   "metadata": {},
   "outputs": [],
   "source": [
    "import pandas as pd \n",
    "import xgboost as xgb\n",
    "from sklearn.model_selection import train_test_split \n",
    "from sklearn.metrics import accuracy_score\n",
    "from sklearn.preprocessing import StandardScaler\n",
    "\n",
    "\n",
    "df = pd.read_csv('data.csv')\n",
    "x = df\n",
    "x = x.drop(['status', 'name'], axis = 1)\n",
    "y = df[['status']]"
   ]
  },
  {
   "cell_type": "code",
   "execution_count": 29,
   "metadata": {},
   "outputs": [
    {
     "data": {
      "text/plain": [
       "array([[ 6.73129872e-01,  7.46050282e-04, -8.55515034e-01, ...,\n",
       "        -1.01025009e+00, -5.43507742e-01,  1.00195398e-01],\n",
       "       [-9.68676359e-01, -7.96784849e-01, -9.05388707e-01, ...,\n",
       "         3.93292601e-01, -6.04230668e-01,  4.27158021e-01],\n",
       "       [ 8.70161898e-02, -2.64418180e-01, -1.10398498e+00, ...,\n",
       "        -4.62238211e-01, -6.23271241e-01, -5.08851752e-01],\n",
       "       ...,\n",
       "       [-8.27168067e-01, -6.28939551e-01, -1.17868438e-01, ...,\n",
       "         1.23276410e+00, -4.63055430e-01, -2.04383802e-01],\n",
       "       [-2.92164022e-01,  2.22998341e-01, -7.64014698e-01, ...,\n",
       "        -1.96237883e-01, -4.61688280e-01,  3.11914543e-01],\n",
       "       [ 1.04981516e+00,  2.24883135e-01, -5.88132253e-01, ...,\n",
       "        -7.45043114e-01,  1.31116450e+00, -4.08579906e-02]])"
      ]
     },
     "execution_count": 29,
     "metadata": {},
     "output_type": "execute_result"
    }
   ],
   "source": [
    "scale = StandardScaler()\n",
    "x = scale.fit_transform(x)\n",
    "x_train, x_test, y_train, y_test = train_test_split(x,y,test_size=0.20,random_state = 2)\n",
    "x_train"
   ]
  },
  {
   "cell_type": "code",
   "execution_count": 65,
   "metadata": {},
   "outputs": [],
   "source": [
    "params ={\n",
    "    'max_depth':3,\n",
    "    'learning_rate': 0.3,\n",
    "    'objective': 'multi:softmax',\n",
    "    'num_class':2,\n",
    "}\n",
    "epochs = 10\n",
    "train = xgb.DMatrix(x_train, label=y_train)\n",
    "test = xgb.DMatrix(x_test, label = y_test)\n",
    "model = xgb.train(params, train, epochs)\n",
    "prediction = model.predict(test)"
   ]
  },
  {
   "cell_type": "code",
   "execution_count": 66,
   "metadata": {},
   "outputs": [
    {
     "name": "stdout",
     "output_type": "stream",
     "text": [
      "89.74358974358975\n"
     ]
    }
   ],
   "source": [
    "print(accuracy_score(y_test,prediction)*100)"
   ]
  },
  {
   "cell_type": "code",
   "execution_count": null,
   "metadata": {},
   "outputs": [],
   "source": []
  }
 ],
 "metadata": {
  "kernelspec": {
   "display_name": "Python 3",
   "language": "python",
   "name": "python3"
  },
  "language_info": {
   "codemirror_mode": {
    "name": "ipython",
    "version": 3
   },
   "file_extension": ".py",
   "mimetype": "text/x-python",
   "name": "python",
   "nbconvert_exporter": "python",
   "pygments_lexer": "ipython3",
   "version": "3.7.6"
  }
 },
 "nbformat": 4,
 "nbformat_minor": 4
}
